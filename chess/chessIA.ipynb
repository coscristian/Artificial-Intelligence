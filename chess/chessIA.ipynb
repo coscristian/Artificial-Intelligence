{
  "nbformat": 4,
  "nbformat_minor": 0,
  "metadata": {
    "colab": {
      "provenance": [],
      "authorship_tag": "ABX9TyNqE8Ale/Bm9pFkduORDqZY",
      "include_colab_link": true
    },
    "kernelspec": {
      "name": "python3",
      "display_name": "Python 3"
    },
    "language_info": {
      "name": "python"
    }
  },
  "cells": [
    {
      "cell_type": "markdown",
      "metadata": {
        "id": "view-in-github",
        "colab_type": "text"
      },
      "source": [
        "<a href=\"https://colab.research.google.com/github/coscristian/IA-Chess/blob/main/chess/chessIA.ipynb\" target=\"_parent\"><img src=\"https://colab.research.google.com/assets/colab-badge.svg\" alt=\"Open In Colab\"/></a>"
      ]
    },
    {
      "cell_type": "markdown",
      "source": [
        "# **Ajedrez con IA**\n",
        "\n",
        "**Instalación necesaria (chess)**\n"
      ],
      "metadata": {
        "id": "y2zpL17L-oUY"
      }
    },
    {
      "cell_type": "code",
      "source": [
        "pip install chess"
      ],
      "metadata": {
        "colab": {
          "base_uri": "https://localhost:8080/"
        },
        "id": "t7yM93GE_YPU",
        "outputId": "2d20c683-04a6-48ee-8001-5f9aa67826cf"
      },
      "execution_count": null,
      "outputs": [
        {
          "output_type": "stream",
          "name": "stdout",
          "text": [
            "Looking in indexes: https://pypi.org/simple, https://us-python.pkg.dev/colab-wheels/public/simple/\n",
            "Collecting chess\n",
            "  Downloading chess-1.9.4-py3-none-any.whl (149 kB)\n",
            "\u001b[2K     \u001b[90m━━━━━━━━━━━━━━━━━━━━━━━━━━━━━━━━━━━━━━━\u001b[0m \u001b[32m149.1/149.1 KB\u001b[0m \u001b[31m5.1 MB/s\u001b[0m eta \u001b[36m0:00:00\u001b[0m\n",
            "\u001b[?25hInstalling collected packages: chess\n",
            "Successfully installed chess-1.9.4\n"
          ]
        }
      ]
    },
    {
      "cell_type": "code",
      "source": [
        "import chess, random"
      ],
      "metadata": {
        "id": "nshbfX6-A7Y3"
      },
      "execution_count": null,
      "outputs": []
    },
    {
      "cell_type": "markdown",
      "source": [
        "**Creación de agentes**\n",
        "\n",
        "Agente Tablero"
      ],
      "metadata": {
        "id": "Vu3eC3WY_er2"
      }
    },
    {
      "cell_type": "code",
      "source": [
        "class Board(chess.Board):\n",
        "  def __init__(self):\n",
        "    super().__init__()\n",
        "  \n",
        "  def get_legal_moves(self) -> list:\n",
        "    return [m.uci() for m in list(self.legal_moves)]\n",
        "\n",
        "  def make_movement(self, mov: str):\n",
        "    new_move = chess.Move.from_uci(mov)\n",
        "    self.push(new_move)"
      ],
      "metadata": {
        "id": "xd7IzimN_g4q"
      },
      "execution_count": null,
      "outputs": []
    },
    {
      "cell_type": "markdown",
      "source": [
        "Agente Jugador1 (Fichas blancas)"
      ],
      "metadata": {
        "id": "-lZHEjgw_oul"
      }
    },
    {
      "cell_type": "code",
      "source": [
        "class Player1:\n",
        "  def __init__(self, board: chess.Board):\n",
        "    self.board = board\n",
        "\n",
        "  def select_random_movement(self) -> str:\n",
        "    legal_moves = self.board.get_legal_moves()\n",
        "    return random.choice(legal_moves)"
      ],
      "metadata": {
        "id": "Y4fk86jL_v4w"
      },
      "execution_count": null,
      "outputs": []
    },
    {
      "cell_type": "markdown",
      "source": [
        "Agente Jugador2 (Fichas negras)"
      ],
      "metadata": {
        "id": "O3ebb3Ky_6aM"
      }
    },
    {
      "cell_type": "code",
      "source": [
        "class Player2:\n",
        "  def __init__(self, board: chess.Board):\n",
        "    self.board = board\n",
        "  def select_random_movement(self) -> str:\n",
        "    legal_moves = self.board.get_legal_moves()\n",
        "    return random.choice(legal_moves)"
      ],
      "metadata": {
        "id": "gGdZ2tDZ_-WM"
      },
      "execution_count": null,
      "outputs": []
    },
    {
      "cell_type": "markdown",
      "source": [
        "Creación agentes"
      ],
      "metadata": {
        "id": "3Mf1Ut9_HzJX"
      }
    },
    {
      "cell_type": "code",
      "source": [
        "board = Board()\n",
        "player1 = Player1(board)\n",
        "player2 = Player2(board)"
      ],
      "metadata": {
        "id": "Jva82U84H2TW"
      },
      "execution_count": null,
      "outputs": []
    },
    {
      "cell_type": "markdown",
      "source": [
        "**Generar movimientos y juego**\n",
        "\n",
        "Para ver cada uno de los movimientos aleatorios, quitar comentarios a las 3 lineas"
      ],
      "metadata": {
        "id": "Iy1l9HrSHh14"
      }
    },
    {
      "cell_type": "code",
      "source": [
        "#import time\n",
        "while not board.is_game_over(claim_draw=True):\n",
        "  #time.sleep(0.1)\n",
        "  #print(board)\n",
        "  if board.turn == chess.WHITE:\n",
        "    movement = player1.select_random_movement()\n",
        "  else:\n",
        "    movement = player2.select_random_movement()\n",
        "  board.make_movement(movement)\n",
        "  \n",
        "board"
      ],
      "metadata": {
        "id": "6nkJVrJTlwM6"
      },
      "execution_count": null,
      "outputs": []
    }
  ]
}